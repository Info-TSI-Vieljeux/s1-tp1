{
 "cells": [
  {
   "cell_type": "markdown",
   "id": "977967ef",
   "metadata": {
    "deletable": false,
    "editable": false,
    "nbgrader": {
     "cell_type": "markdown",
     "checksum": "ee9d9fbf45a8fab65e37786204d5fdd1",
     "grade": false,
     "grade_id": "cell-5af362628dbe550a",
     "locked": true,
     "schema_version": 3,
     "solution": false,
     "task": false
    }
   },
   "source": [
    ">Ouvrir le notebook dans Colab en modifiant le début de l'adresse du notebook (la copier dans le champ d'adresse du navigateur) :<br>\n",
    "il faut remplacer le **github.com** du début par **githubtocolab.com**.<br>\n",
    "Une fois vos modifications faites, il faudra le sauvegarder dans GitHub :<br>\n",
    "*Fichier > Sauvegarder une copie dans Github*.<br>\n",
    "La première fois, il faudra fournir les permissions à Colab de communiquer avec votre GitHub.<br>\n",
    "\n",
    "---"
   ]
  },
  {
   "cell_type": "markdown",
   "id": "56535d36",
   "metadata": {
    "deletable": false,
    "editable": false,
    "nbgrader": {
     "cell_type": "markdown",
     "checksum": "914244f1fdabc2007b1164bad598f1f4",
     "grade": false,
     "grade_id": "cell-bb396784ac765eda",
     "locked": true,
     "schema_version": 3,
     "solution": false,
     "task": false
    }
   },
   "source": [
    "# TP 1 : Recherche simple"
   ]
  },
  {
   "cell_type": "markdown",
   "id": "90501a5e",
   "metadata": {
    "deletable": false,
    "editable": false,
    "nbgrader": {
     "cell_type": "markdown",
     "checksum": "596f7a33b957bd1d348a00eeee9b2612",
     "grade": false,
     "grade_id": "cell-edf93f7b9043fc41",
     "locked": true,
     "schema_version": 3,
     "solution": false,
     "task": false
    }
   },
   "source": [
    "Écrire une fonction `recherche` qui prend pour argument un élément et une liste et qui retourne `True` si l'élément est présent et `False` sinon.\\\n",
    "Le corps de la fonction devra comprendre une boucle."
   ]
  },
  {
   "cell_type": "code",
   "execution_count": null,
   "id": "59fcae1a",
   "metadata": {
    "deletable": false,
    "nbgrader": {
     "cell_type": "code",
     "checksum": "fd396583a84c25e09a9551941a7aed20",
     "grade": false,
     "grade_id": "rech1",
     "locked": false,
     "schema_version": 3,
     "solution": true,
     "task": false
    }
   },
   "outputs": [],
   "source": [
    "def recherche(x,L) :\n",
    "    '''\n",
    "    recherche(x: tout type, L : list) -> bool\n",
    "    '''\n",
    "    # VOTRE CODE"
   ]
  },
  {
   "cell_type": "code",
   "execution_count": null,
   "id": "1f402458",
   "metadata": {
    "deletable": false,
    "editable": false,
    "nbgrader": {
     "cell_type": "code",
     "checksum": "30fa3076613df31cc9fae6eb851c35fa",
     "grade": true,
     "grade_id": "sol1",
     "locked": true,
     "points": 1,
     "schema_version": 3,
     "solution": false,
     "task": false
    }
   },
   "outputs": [],
   "source": [
    "# Cellule de test (ne pas modifier)"
   ]
  }
 ],
 "metadata": {
  "kernelspec": {
   "display_name": "Python 3",
   "language": "python",
   "name": "python3"
  },
  "language_info": {
   "codemirror_mode": {
    "name": "ipython",
    "version": 3
   },
   "file_extension": ".py",
   "mimetype": "text/x-python",
   "name": "python",
   "nbconvert_exporter": "python",
   "pygments_lexer": "ipython3",
   "version": "3.8.2"
  }
 },
 "nbformat": 4,
 "nbformat_minor": 5
}
