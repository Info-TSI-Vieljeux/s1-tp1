{
 "cells": [
  {
   "cell_type": "markdown",
   "id": "f7da0845",
   "metadata": {},
   "source": [
    "# Test\n",
    "\n",
    "blabla"
   ]
  },
  {
   "cell_type": "markdown",
   "id": "1d2377b2",
   "metadata": {},
   "source": [
    "---"
   ]
  },
  {
   "cell_type": "markdown",
   "id": "6c67b33a",
   "metadata": {
    "deletable": false,
    "editable": false,
    "nbgrader": {
     "cell_type": "markdown",
     "checksum": "58ff95116b1c411dc14f7edb41e15c60",
     "grade": false,
     "grade_id": "cell-e600bbee24259ef3",
     "locked": true,
     "schema_version": 3,
     "solution": false,
     "task": false
    }
   },
   "source": [
    "blabla"
   ]
  },
  {
   "cell_type": "code",
   "execution_count": null,
   "id": "990f5106",
   "metadata": {
    "deletable": false,
    "nbgrader": {
     "cell_type": "code",
     "checksum": "68296ceca3b1e8b6b2b22d0ee337c8be",
     "grade": false,
     "grade_id": "foo",
     "locked": false,
     "schema_version": 3,
     "solution": true,
     "task": false
    }
   },
   "outputs": [],
   "source": [
    "def foo(b) :\n",
    "    # VOTRE CODE"
   ]
  },
  {
   "cell_type": "code",
   "execution_count": null,
   "id": "8d8cbe25",
   "metadata": {
    "deletable": false,
    "editable": false,
    "nbgrader": {
     "cell_type": "code",
     "checksum": "026da75d8f1f2f4b771e7dfc2611821e",
     "grade": true,
     "grade_id": "test1",
     "locked": true,
     "points": 1,
     "schema_version": 3,
     "solution": false,
     "task": false
    }
   },
   "outputs": [],
   "source": [
    "# Cellule de test (ne pas modifier)"
   ]
  },
  {
   "cell_type": "code",
   "execution_count": null,
   "id": "66865b2f",
   "metadata": {
    "deletable": false,
    "editable": false,
    "nbgrader": {
     "cell_type": "code",
     "checksum": "2feae325e85da568a2ad74a05fe53f89",
     "grade": true,
     "grade_id": "test2",
     "locked": true,
     "points": 1,
     "schema_version": 3,
     "solution": false,
     "task": false
    }
   },
   "outputs": [],
   "source": [
    "# Cellule de test (ne pas modifier)"
   ]
  }
 ],
 "metadata": {
  "kernelspec": {
   "display_name": "Python 3",
   "language": "python",
   "name": "python3"
  },
  "language_info": {
   "codemirror_mode": {
    "name": "ipython",
    "version": 3
   },
   "file_extension": ".py",
   "mimetype": "text/x-python",
   "name": "python",
   "nbconvert_exporter": "python",
   "pygments_lexer": "ipython3",
   "version": "3.8.2"
  }
 },
 "nbformat": 4,
 "nbformat_minor": 5
}
